{
 "cells": [
  {
   "cell_type": "code",
   "execution_count": 1,
   "id": "ccfe6893-99ca-4414-8557-e486346c6dac",
   "metadata": {
    "tags": []
   },
   "outputs": [],
   "source": [
    "import os\n",
    "import numpy as np\n",
    "import matplotlib.pyplot as plt\n",
    "%matplotlib inline\n",
    "\n",
    "from mmseg.apis import init_model, inference_model, show_result_pyplot\n",
    "import mmcv\n",
    "import cv2"
   ]
  },
  {
   "cell_type": "markdown",
   "id": "3388aacc-e46e-4dea-9c09-49f156463ef0",
   "metadata": {},
   "source": [
    "# load the config file"
   ]
  },
  {
   "cell_type": "code",
   "execution_count": 5,
   "id": "aae69f95-9733-4e69-9136-a9c33b04014a",
   "metadata": {
    "tags": []
   },
   "outputs": [],
   "source": [
    "# 载入 config 配置文件\n",
    "from mmengine import Config\n",
    "cfg = Config.fromfile('config_files/hrnet-AuroraDataset_fcn.py')"
   ]
  },
  {
   "cell_type": "code",
   "execution_count": null,
   "id": "f9845ee3-4736-49d9-8b82-25e9e4fd558e",
   "metadata": {
    "scrolled": true,
    "tags": []
   },
   "outputs": [],
   "source": [
    "from mmengine.runner import Runner\n",
    "from mmseg.utils import register_all_modules\n",
    "\n",
    "# register all modules in mmseg into the registries\n",
    "# do not init the default scope here because it will be init in the runner\n",
    "\n",
    "register_all_modules(init_default_scope=False)\n",
    "runner = Runner.from_cfg(cfg)"
   ]
  },
  {
   "cell_type": "markdown",
   "id": "e4d9ef5b-6843-4239-88dc-881ef00b0c53",
   "metadata": {},
   "source": [
    "# load the model"
   ]
  },
  {
   "cell_type": "code",
   "execution_count": 7,
   "id": "38a9452d-8c49-4471-b531-0a86b21c36fe",
   "metadata": {
    "tags": []
   },
   "outputs": [
    {
     "name": "stdout",
     "output_type": "stream",
     "text": [
      "Loads checkpoint by local backend from path: ./work_dirs/AuroraDataset/hrnet-fcn20/iter_3000.pth\n"
     ]
    }
   ],
   "source": [
    "checkpoint_path = './work_dirs/AuroraDataset/hrnet-fcn20/iter_3000.pth'\n",
    "model = init_model(cfg, checkpoint_path, 'cuda:0')"
   ]
  },
  {
   "cell_type": "markdown",
   "id": "d6198eca-0bf6-49ca-9b4d-14484992df68",
   "metadata": {},
   "source": [
    "# inference"
   ]
  },
  {
   "cell_type": "code",
   "execution_count": null,
   "id": "7ec9d200-8338-4c39-8b37-61c3951f195b",
   "metadata": {
    "scrolled": true,
    "tags": []
   },
   "outputs": [],
   "source": [
    "from PIL import Image\n",
    "import shutil\n",
    "src_root = 'D://research/OnsetStatistics/data/isolated_jpgs3'\n",
    "file_list = os.listdir(src_root)\n",
    "file_list.sort()\n",
    "tmp_root = 'data/Aurora-dataset/img_dir/test'\n",
    "dst_root = 'D://research/OnsetStatistics/data/isolated_pures3_hrseg2'\n",
    "\n",
    "for file in file_list:\n",
    "    print(file)\n",
    "    img_list = os.listdir(os.path.join(src_root, file))\n",
    "    img_list.sort()\n",
    "    \n",
    "    if not os.path.exists(os.path.join(dst_root, file)):\n",
    "        os.makedirs(os.path.join(dst_root, file))\n",
    "    \n",
    "    for im in img_list:\n",
    "        # print(im)\n",
    "        shutil.copyfile(os.path.join(src_root, file, im), os.path.join(tmp_root, im))\n",
    "        # print(os.path.join(src_root, file, im))\n",
    "        img = mmcv.imread(os.path.join(tmp_root, im))\n",
    "        result = inference_model(model, img)\n",
    "        pred_mask = result.pred_sem_seg.data[0].cpu().numpy()\n",
    "        # print(pred_mask.shape)\n",
    "        mask_img = Image.fromarray(pred_mask.astype(np.uint8)*255)\n",
    "        mask_img.save(os.path.join(dst_root, file, im))\n",
    "        os.remove(os.path.join(tmp_root, im))"
   ]
  }
 ],
 "metadata": {
  "kernelspec": {
   "display_name": "Python 3 (ipykernel)",
   "language": "python",
   "name": "python3"
  },
  "language_info": {
   "codemirror_mode": {
    "name": "ipython",
    "version": 3
   },
   "file_extension": ".py",
   "mimetype": "text/x-python",
   "name": "python",
   "nbconvert_exporter": "python",
   "pygments_lexer": "ipython3",
   "version": "3.8.17"
  },
  "toc-autonumbering": true
 },
 "nbformat": 4,
 "nbformat_minor": 5
}
